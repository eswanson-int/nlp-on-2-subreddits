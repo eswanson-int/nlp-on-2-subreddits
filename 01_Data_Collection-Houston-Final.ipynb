{
 "cells": [
  {
   "cell_type": "code",
   "execution_count": 56,
   "id": "eed839df",
   "metadata": {},
   "outputs": [],
   "source": [
    "import requests\n",
    "import pandas as pd\n",
    "import numpy as np\n",
    "import time"
   ]
  },
  {
   "cell_type": "code",
   "execution_count": 4,
   "id": "5a0ca02b",
   "metadata": {},
   "outputs": [],
   "source": [
    "url = 'https://api.pushshift.io/reddit/search/submission'"
   ]
  },
  {
   "cell_type": "markdown",
   "id": "3deac3a3",
   "metadata": {},
   "source": [
    "## Run this first to get the last utc time for the first run"
   ]
  },
  {
   "cell_type": "code",
   "execution_count": 45,
   "id": "9565665f",
   "metadata": {},
   "outputs": [
    {
     "data": {
      "text/plain": [
       "200"
      ]
     },
     "execution_count": 45,
     "metadata": {},
     "output_type": "execute_result"
    }
   ],
   "source": [
    "params = {\n",
    "    'subreddit': 'Houston',\n",
    "    'size': 100    \n",
    "}\n",
    "\n",
    "res = requests.get(url, params)\n",
    "\n",
    "res.status_code"
   ]
  },
  {
   "cell_type": "code",
   "execution_count": 46,
   "id": "6a52f7eb",
   "metadata": {},
   "outputs": [
    {
     "data": {
      "text/plain": [
       "dict_keys(['data'])"
      ]
     },
     "execution_count": 46,
     "metadata": {},
     "output_type": "execute_result"
    }
   ],
   "source": [
    "res.json().keys()"
   ]
  },
  {
   "cell_type": "code",
   "execution_count": 47,
   "id": "bfa35316",
   "metadata": {},
   "outputs": [],
   "source": [
    "posts = res.json()['data']"
   ]
  },
  {
   "cell_type": "code",
   "execution_count": 48,
   "id": "dffcb82d",
   "metadata": {
    "scrolled": true
   },
   "outputs": [
    {
     "data": {
      "text/plain": [
       "{'all_awardings': [],\n",
       " 'allow_live_comments': False,\n",
       " 'author': 'swordpriest1',\n",
       " 'author_flair_css_class': None,\n",
       " 'author_flair_richtext': [],\n",
       " 'author_flair_text': None,\n",
       " 'author_flair_type': 'text',\n",
       " 'author_fullname': 't2_anh5j',\n",
       " 'author_is_blocked': False,\n",
       " 'author_patreon_flair': False,\n",
       " 'author_premium': False,\n",
       " 'awarders': [],\n",
       " 'can_mod_post': False,\n",
       " 'contest_mode': False,\n",
       " 'created_utc': 1630951521,\n",
       " 'domain': 'self.houston',\n",
       " 'full_link': 'https://www.reddit.com/r/houston/comments/pj4tvc/want_to_build_a_stand_alone_apartment_in_backyard/',\n",
       " 'gildings': {},\n",
       " 'id': 'pj4tvc',\n",
       " 'is_created_from_ads_ui': False,\n",
       " 'is_crosspostable': True,\n",
       " 'is_meta': False,\n",
       " 'is_original_content': False,\n",
       " 'is_reddit_media_domain': False,\n",
       " 'is_robot_indexable': True,\n",
       " 'is_self': True,\n",
       " 'is_video': False,\n",
       " 'link_flair_background_color': '',\n",
       " 'link_flair_richtext': [],\n",
       " 'link_flair_text_color': 'dark',\n",
       " 'link_flair_type': 'text',\n",
       " 'locked': False,\n",
       " 'media_only': False,\n",
       " 'no_follow': True,\n",
       " 'num_comments': 0,\n",
       " 'num_crossposts': 0,\n",
       " 'over_18': False,\n",
       " 'parent_whitelist_status': 'all_ads',\n",
       " 'permalink': '/r/houston/comments/pj4tvc/want_to_build_a_stand_alone_apartment_in_backyard/',\n",
       " 'pinned': False,\n",
       " 'pwls': 6,\n",
       " 'retrieved_on': 1630951532,\n",
       " 'score': 1,\n",
       " 'selftext': \"Hello everyone. I want to build a stand alone apartment in the backyard of the house. The backyard is pretty spacious. At the moment roughly half of it is covered with cement and there is a permanent basketball goal as well. I know i'll have to get rid of the cement and the basketball goal and probably get some fencing to segment a piece of the back yard.\\n\\n&amp;#x200B;\\n\\nI really have no clue as to how I go about doing this project. Is the best way to go about this through a site like HomeAdvisor and the like? A slew of homes in our neighborhood have these sort of building/garages but I think most of them have been there for decades.\",\n",
       " 'send_replies': True,\n",
       " 'spoiler': False,\n",
       " 'stickied': False,\n",
       " 'subreddit': 'houston',\n",
       " 'subreddit_id': 't5_2qj1l',\n",
       " 'subreddit_subscribers': 256864,\n",
       " 'subreddit_type': 'public',\n",
       " 'thumbnail': 'self',\n",
       " 'title': 'Want to build a stand alone apartment in backyard',\n",
       " 'total_awards_received': 0,\n",
       " 'treatment_tags': [],\n",
       " 'upvote_ratio': 1.0,\n",
       " 'url': 'https://www.reddit.com/r/houston/comments/pj4tvc/want_to_build_a_stand_alone_apartment_in_backyard/',\n",
       " 'whitelist_status': 'all_ads',\n",
       " 'wls': 6}"
      ]
     },
     "execution_count": 48,
     "metadata": {},
     "output_type": "execute_result"
    }
   ],
   "source": [
    "posts[0]"
   ]
  },
  {
   "cell_type": "code",
   "execution_count": 49,
   "id": "db355112",
   "metadata": {},
   "outputs": [
    {
     "data": {
      "text/html": [
       "<div>\n",
       "<style scoped>\n",
       "    .dataframe tbody tr th:only-of-type {\n",
       "        vertical-align: middle;\n",
       "    }\n",
       "\n",
       "    .dataframe tbody tr th {\n",
       "        vertical-align: top;\n",
       "    }\n",
       "\n",
       "    .dataframe thead th {\n",
       "        text-align: right;\n",
       "    }\n",
       "</style>\n",
       "<table border=\"1\" class=\"dataframe\">\n",
       "  <thead>\n",
       "    <tr style=\"text-align: right;\">\n",
       "      <th></th>\n",
       "      <th>subreddit</th>\n",
       "      <th>title</th>\n",
       "      <th>selftext</th>\n",
       "      <th>created_utc</th>\n",
       "    </tr>\n",
       "  </thead>\n",
       "  <tbody>\n",
       "    <tr>\n",
       "      <th>95</th>\n",
       "      <td>houston</td>\n",
       "      <td>A legit question.</td>\n",
       "      <td></td>\n",
       "      <td>1630805160</td>\n",
       "    </tr>\n",
       "    <tr>\n",
       "      <th>96</th>\n",
       "      <td>houston</td>\n",
       "      <td>Sweet pup rescued from a hot car is up for ado...</td>\n",
       "      <td></td>\n",
       "      <td>1630803508</td>\n",
       "    </tr>\n",
       "    <tr>\n",
       "      <th>97</th>\n",
       "      <td>houston</td>\n",
       "      <td>Beltway toll “cash” lane</td>\n",
       "      <td>[removed]</td>\n",
       "      <td>1630801894</td>\n",
       "    </tr>\n",
       "    <tr>\n",
       "      <th>98</th>\n",
       "      <td>houston</td>\n",
       "      <td>Tiki Macaw Buzz Fest 2021</td>\n",
       "      <td></td>\n",
       "      <td>1630796555</td>\n",
       "    </tr>\n",
       "    <tr>\n",
       "      <th>99</th>\n",
       "      <td>houston</td>\n",
       "      <td>Tiki Macaw Buzz Fest 2021 Part 1</td>\n",
       "      <td></td>\n",
       "      <td>1630796545</td>\n",
       "    </tr>\n",
       "  </tbody>\n",
       "</table>\n",
       "</div>"
      ],
      "text/plain": [
       "   subreddit                                              title   selftext  \\\n",
       "95   houston                                  A legit question.              \n",
       "96   houston  Sweet pup rescued from a hot car is up for ado...              \n",
       "97   houston                           Beltway toll “cash” lane  [removed]   \n",
       "98   houston                          Tiki Macaw Buzz Fest 2021              \n",
       "99   houston                   Tiki Macaw Buzz Fest 2021 Part 1              \n",
       "\n",
       "    created_utc  \n",
       "95   1630805160  \n",
       "96   1630803508  \n",
       "97   1630801894  \n",
       "98   1630796555  \n",
       "99   1630796545  "
      ]
     },
     "execution_count": 49,
     "metadata": {},
     "output_type": "execute_result"
    }
   ],
   "source": [
    "df = pd.DataFrame(posts)[['subreddit', 'title', 'selftext', 'created_utc']]\n",
    "df.tail()"
   ]
  },
  {
   "cell_type": "markdown",
   "id": "2c195994",
   "metadata": {},
   "source": [
    "## Now run the scraper function"
   ]
  },
  {
   "cell_type": "code",
   "execution_count": 50,
   "id": "026bcc57",
   "metadata": {},
   "outputs": [],
   "source": [
    "#Will scrape redit/Houston for n times and return a df\n",
    "#will need to run it one time outside of function to get the laststatus time and create the df\n",
    "last_time = df['created_utc'].iloc[-1]\n",
    "#1630796537\n",
    "\n",
    "def scraped(n):\n",
    "    df_final = df\n",
    "    for i in range (n):\n",
    "        \n",
    "        params = {\n",
    "        'subreddit': 'Houston',\n",
    "        'size': 100,\n",
    "        'before': df['created_utc'].iloc[-1]\n",
    "        }\n",
    "        res = requests.get(url, params)\n",
    "        posts = res.json()['data']\n",
    "        df2 = pd.DataFrame(posts)[['subreddit', 'title', 'selftext', 'created_utc']]\n",
    "        df_final = pd.concat([df_final, df2])\n",
    "        #need to update last_time\n",
    "        #last_time = df['created_utc'].iloc[-1]\n",
    "        time.sleep(10)\n",
    "    \n",
    "    return df_final\n"
   ]
  },
  {
   "cell_type": "markdown",
   "id": "79c12c31",
   "metadata": {},
   "source": [
    "## Define number of iterations, remember you pull 100 post per iteration"
   ]
  },
  {
   "cell_type": "code",
   "execution_count": 107,
   "id": "e5eaf6cc",
   "metadata": {},
   "outputs": [],
   "source": [
    "#Call the function\n",
    "df_Houston = scraped(150)"
   ]
  },
  {
   "cell_type": "markdown",
   "id": "bcf68a1d",
   "metadata": {},
   "source": [
    "## Quick test of intergrity of data frame to make sure data aquisition is complete"
   ]
  },
  {
   "cell_type": "code",
   "execution_count": 108,
   "id": "fcf68027",
   "metadata": {},
   "outputs": [
    {
     "data": {
      "text/html": [
       "<div>\n",
       "<style scoped>\n",
       "    .dataframe tbody tr th:only-of-type {\n",
       "        vertical-align: middle;\n",
       "    }\n",
       "\n",
       "    .dataframe tbody tr th {\n",
       "        vertical-align: top;\n",
       "    }\n",
       "\n",
       "    .dataframe thead th {\n",
       "        text-align: right;\n",
       "    }\n",
       "</style>\n",
       "<table border=\"1\" class=\"dataframe\">\n",
       "  <thead>\n",
       "    <tr style=\"text-align: right;\">\n",
       "      <th></th>\n",
       "      <th>subreddit</th>\n",
       "      <th>title</th>\n",
       "      <th>selftext</th>\n",
       "      <th>created_utc</th>\n",
       "    </tr>\n",
       "  </thead>\n",
       "  <tbody>\n",
       "    <tr>\n",
       "      <th>0</th>\n",
       "      <td>houston</td>\n",
       "      <td>Want to build a stand alone apartment in backyard</td>\n",
       "      <td>Hello everyone. I want to build a stand alone ...</td>\n",
       "      <td>1630951521</td>\n",
       "    </tr>\n",
       "    <tr>\n",
       "      <th>1</th>\n",
       "      <td>houston</td>\n",
       "      <td>Relocating from Lex KY</td>\n",
       "      <td>Hi! Considering relocating from Lexington KY a...</td>\n",
       "      <td>1630948138</td>\n",
       "    </tr>\n",
       "    <tr>\n",
       "      <th>2</th>\n",
       "      <td>houston</td>\n",
       "      <td>Anywhere in Houston that can mount bindings to...</td>\n",
       "      <td>Just received some warranty replacement skis f...</td>\n",
       "      <td>1630943989</td>\n",
       "    </tr>\n",
       "    <tr>\n",
       "      <th>3</th>\n",
       "      <td>houston</td>\n",
       "      <td>Anyone else out of power? I'm in energy corridor.</td>\n",
       "      <td>[removed]</td>\n",
       "      <td>1630943642</td>\n",
       "    </tr>\n",
       "    <tr>\n",
       "      <th>4</th>\n",
       "      <td>houston</td>\n",
       "      <td>Places to Study</td>\n",
       "      <td>Hi everyone! I just started school and I’m loo...</td>\n",
       "      <td>1630943452</td>\n",
       "    </tr>\n",
       "  </tbody>\n",
       "</table>\n",
       "</div>"
      ],
      "text/plain": [
       "  subreddit                                              title  \\\n",
       "0   houston  Want to build a stand alone apartment in backyard   \n",
       "1   houston                             Relocating from Lex KY   \n",
       "2   houston  Anywhere in Houston that can mount bindings to...   \n",
       "3   houston  Anyone else out of power? I'm in energy corridor.   \n",
       "4   houston                                    Places to Study   \n",
       "\n",
       "                                            selftext  created_utc  \n",
       "0  Hello everyone. I want to build a stand alone ...   1630951521  \n",
       "1  Hi! Considering relocating from Lexington KY a...   1630948138  \n",
       "2  Just received some warranty replacement skis f...   1630943989  \n",
       "3                                          [removed]   1630943642  \n",
       "4  Hi everyone! I just started school and I’m loo...   1630943452  "
      ]
     },
     "execution_count": 108,
     "metadata": {},
     "output_type": "execute_result"
    }
   ],
   "source": [
    "df_Houston.head()"
   ]
  },
  {
   "cell_type": "code",
   "execution_count": 109,
   "id": "47468152",
   "metadata": {},
   "outputs": [
    {
     "data": {
      "text/plain": [
       "(15100, 4)"
      ]
     },
     "execution_count": 109,
     "metadata": {},
     "output_type": "execute_result"
    }
   ],
   "source": [
    "df_Houston.shape"
   ]
  },
  {
   "cell_type": "code",
   "execution_count": 110,
   "id": "42e8c50c",
   "metadata": {
    "scrolled": true
   },
   "outputs": [
    {
     "data": {
      "text/plain": [
       "                                                                                                                                                                                                                                                                                                                                                                                                                                                                                                                                                                                                                                                                                                                                                                                                                                             7387\n",
       "[removed]                                                                                                                                                                                                                                                                                                                                                                                                                                                                                                                                                                                                                                                                                                                                                                                                                                    1669\n",
       "Hello Houston. I’m currently in Navasota, visiting from Michigan for a wedding on Saturday. Headed back to airport on Sunday. Anybody have recommendations on how to get back to airport? My rental car was not at airport when I arrived last night and I took an Uber here ($173, yikes). I’d like to try and schedule something ASAP but Uber won’t let me schedule anything (I guess I can try Lyft as well) and not being from around here I thought I would ask here first since local Reddit people are the best to go to first. \\n\\nThanks \\n\\nP.S: we may spend some time in Houston (if we can get there) before our flight on Sunday night, any place my wife and I should eat at ?                                                                                                                                                150\n",
       "I have two tickets for the coheed and used concert tomorrow at Cynthia woods. Anyone want them? $30/each plus parking.                                                                                                                                                                                                                                                                                                                                                                                                                                                                                                                                                                                                                                                                                                                        150\n",
       "Recently moved to Houston (on the cusp of Montrose and Fourth Ward) and have had quite a few packages picked off this past week. I’m eyeing a Nest security camera to go along with my Google Nest Hub, but I’m wondering if the technology can withstand the summer heat. Anyone else have a Google Nest outdoor battery camera and can speak to its performance with the heat, or a suggestion for a camera / options that works with the Google Nest Hub? I didn’t even consider the heat aspect until someone mentioned their battery exploded. 😬 \\n\\nLikewise, open to suggestions for securing packages. My landlord mentioned Amazon Lockers, but I don’t always order from Amazon. Not used to townhouse life without a place to secure packages, so welcoming all suggestions!                                                       150\n",
       "                                                                                                                                                                                                                                                                                                                                                                                                                                                                                                                                                                                                                                                                                                                                                                                                                                             ... \n",
       "Few questions: My wife and I are firm believers that every kid should have their own pet, so we’re currently looking at getting a dog for our 7 year old daughter. With that said, we like to go, go, go on the weekends. Not every weekend, but at least once a month. \\n\\n1. Traveling dog owners, how have your experiences been taking small dogs on road trips? Can I assume that more and more nicer hotels are allowing pets? \\n\\n2. Also, we live in the middle of Houston with only a back patio. Although there’s a park across the street, we’d like to look into purchasing an outdoor artificial grass area for the dog to use the restroom. Have you used something similar for your dog(s)? Advantages? Disadvantages? Is there one in particular you recommend? \\n\\nThanks in advance and have a great Labor Day weekend!       1\n",
       "Was at the Starbucks on Richmond and Woodhead earlier midmorning and thought I heard 4-5 gunshots coming from the west. Drove by there later and saw about 5-6 police cruisers.                                                                                                                                                                                                                                                                                                                                                                                                                                                                                                                                                                                                                                                                 1\n",
       "Twenty inch blades on the Impala\\n\\nA caller gettin' laid tonight\\n\\nSwisher rolled tight, gotta sprayed by Ike                                                                                                                                                                                                                                                                                                                                                                                                                                                                                                                                                                                                                                                                                                                                 1\n",
       "Does anyone know a place to play table tennis in Baytown or on the east side of Houston? A club would be ideal but even just a table would be helpful. Thanks!                                                                                                                                                                                                                                                                                                                                                                                                                                                                                                                                                                                                                                                                                  1\n",
       "That should shut some liberals up                                                                                                                                                                                                                                                                                                                                                                                                                                                                                                                                                                                                                                                                                                                                                                                                               1\n",
       "Name: selftext, Length: 86, dtype: int64"
      ]
     },
     "execution_count": 110,
     "metadata": {},
     "output_type": "execute_result"
    }
   ],
   "source": [
    "df_Houston['selftext'].value_counts()"
   ]
  },
  {
   "cell_type": "code",
   "execution_count": 111,
   "id": "95358d33",
   "metadata": {},
   "outputs": [
    {
     "data": {
      "text/plain": [
       "1669"
      ]
     },
     "execution_count": 111,
     "metadata": {},
     "output_type": "execute_result"
    }
   ],
   "source": [
    "len(df_Houston.loc[df_Houston['selftext'] == '[removed]'])"
   ]
  },
  {
   "cell_type": "markdown",
   "id": "f341c25b",
   "metadata": {},
   "source": [
    "## Remove blanks and [removed] content"
   ]
  },
  {
   "cell_type": "code",
   "execution_count": 112,
   "id": "1e9ab7b3",
   "metadata": {},
   "outputs": [],
   "source": [
    "df_Houston['selftext'].replace('', np.nan, inplace=True)"
   ]
  },
  {
   "cell_type": "code",
   "execution_count": 113,
   "id": "5722653d",
   "metadata": {},
   "outputs": [],
   "source": [
    "df_Houston['selftext'].replace('[removed]', np.nan, inplace=True)"
   ]
  },
  {
   "cell_type": "code",
   "execution_count": 114,
   "id": "62e38f03",
   "metadata": {},
   "outputs": [
    {
     "data": {
      "text/plain": [
       "subreddit         0\n",
       "title             0\n",
       "selftext       9056\n",
       "created_utc       0\n",
       "dtype: int64"
      ]
     },
     "execution_count": 114,
     "metadata": {},
     "output_type": "execute_result"
    }
   ],
   "source": [
    "df_Houston.isnull().sum()"
   ]
  },
  {
   "cell_type": "code",
   "execution_count": 115,
   "id": "697ae275",
   "metadata": {},
   "outputs": [],
   "source": [
    "df_Houston.dropna(inplace = True)"
   ]
  },
  {
   "cell_type": "code",
   "execution_count": 116,
   "id": "c214ce83",
   "metadata": {},
   "outputs": [
    {
     "data": {
      "text/plain": [
       "(6044, 4)"
      ]
     },
     "execution_count": 116,
     "metadata": {},
     "output_type": "execute_result"
    }
   ],
   "source": [
    "df_Houston.shape"
   ]
  },
  {
   "cell_type": "markdown",
   "id": "74ba0cde",
   "metadata": {},
   "source": [
    "## Write to a csv"
   ]
  },
  {
   "cell_type": "code",
   "execution_count": 117,
   "id": "fdfcd20d",
   "metadata": {},
   "outputs": [],
   "source": [
    "df_Houston.to_csv('data/df_Houston.csv', index=False)"
   ]
  }
 ],
 "metadata": {
  "kernelspec": {
   "display_name": "Python 3",
   "language": "python",
   "name": "python3"
  },
  "language_info": {
   "codemirror_mode": {
    "name": "ipython",
    "version": 3
   },
   "file_extension": ".py",
   "mimetype": "text/x-python",
   "name": "python",
   "nbconvert_exporter": "python",
   "pygments_lexer": "ipython3",
   "version": "3.8.8"
  }
 },
 "nbformat": 4,
 "nbformat_minor": 5
}
