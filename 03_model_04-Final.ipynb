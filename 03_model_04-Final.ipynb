{
 "cells": [
  {
   "cell_type": "markdown",
   "id": "1237f7da",
   "metadata": {},
   "source": [
    "<h1 align=\"center\">Project 3 - Model 04 - Using CountVectorizer</h1>\n"
   ]
  },
  {
   "cell_type": "code",
   "execution_count": 1,
   "id": "3d9ce45d",
   "metadata": {},
   "outputs": [],
   "source": [
    "import pandas as pd\n",
    "import matplotlib.pyplot as plt\n",
    "%matplotlib inline\n",
    "import numpy as np\n",
    "\n",
    "from sklearn.ensemble import RandomForestClassifier, ExtraTreesClassifier\n",
    "from sklearn.model_selection import cross_val_score, train_test_split, GridSearchCV\n",
    "from sklearn.pipeline import Pipeline\n",
    "\n",
    "#from sklearn.naive_bayes import MultinomialNB\n",
    "from sklearn.linear_model import LogisticRegression, LogisticRegressionCV\n",
    "from sklearn.metrics import confusion_matrix, plot_confusion_matrix, f1_score\n",
    "\n",
    "from sklearn.feature_extraction.text import CountVectorizer, TfidfVectorizer\n",
    "\n",
    "from sklearn.svm import SVC\n",
    "\n",
    "from nltk.sentiment.vader import SentimentIntensityAnalyzer"
   ]
  },
  {
   "cell_type": "markdown",
   "id": "a95fa14d",
   "metadata": {},
   "source": [
    "### Read in Data"
   ]
  },
  {
   "cell_type": "code",
   "execution_count": 9,
   "id": "052ad7fa",
   "metadata": {
    "scrolled": true
   },
   "outputs": [
    {
     "data": {
      "text/html": [
       "<div>\n",
       "<style scoped>\n",
       "    .dataframe tbody tr th:only-of-type {\n",
       "        vertical-align: middle;\n",
       "    }\n",
       "\n",
       "    .dataframe tbody tr th {\n",
       "        vertical-align: top;\n",
       "    }\n",
       "\n",
       "    .dataframe thead th {\n",
       "        text-align: right;\n",
       "    }\n",
       "</style>\n",
       "<table border=\"1\" class=\"dataframe\">\n",
       "  <thead>\n",
       "    <tr style=\"text-align: right;\">\n",
       "      <th></th>\n",
       "      <th>subreddit</th>\n",
       "      <th>title</th>\n",
       "      <th>selftext</th>\n",
       "      <th>created_utc</th>\n",
       "      <th>text_length</th>\n",
       "      <th>text_word_count</th>\n",
       "      <th>classifier</th>\n",
       "    </tr>\n",
       "  </thead>\n",
       "  <tbody>\n",
       "    <tr>\n",
       "      <th>0</th>\n",
       "      <td>houston</td>\n",
       "      <td>Want to build a stand alone apartment in backyard</td>\n",
       "      <td>Hello everyone. I want to build a stand alone ...</td>\n",
       "      <td>1630951521</td>\n",
       "      <td>640</td>\n",
       "      <td>122</td>\n",
       "      <td>0</td>\n",
       "    </tr>\n",
       "    <tr>\n",
       "      <th>1</th>\n",
       "      <td>houston</td>\n",
       "      <td>Relocating from Lex KY</td>\n",
       "      <td>Hi! Considering relocating from Lexington KY a...</td>\n",
       "      <td>1630948138</td>\n",
       "      <td>433</td>\n",
       "      <td>75</td>\n",
       "      <td>0</td>\n",
       "    </tr>\n",
       "    <tr>\n",
       "      <th>2</th>\n",
       "      <td>houston</td>\n",
       "      <td>Anywhere in Houston that can mount bindings to...</td>\n",
       "      <td>Just received some warranty replacement skis f...</td>\n",
       "      <td>1630943989</td>\n",
       "      <td>268</td>\n",
       "      <td>48</td>\n",
       "      <td>0</td>\n",
       "    </tr>\n",
       "    <tr>\n",
       "      <th>3</th>\n",
       "      <td>houston</td>\n",
       "      <td>Places to Study</td>\n",
       "      <td>Hi everyone! I just started school and I’m loo...</td>\n",
       "      <td>1630943452</td>\n",
       "      <td>197</td>\n",
       "      <td>35</td>\n",
       "      <td>0</td>\n",
       "    </tr>\n",
       "    <tr>\n",
       "      <th>4</th>\n",
       "      <td>houston</td>\n",
       "      <td>Where to buy fresh oysters( variety )</td>\n",
       "      <td>Well ass the tittle says is there anywhere in ...</td>\n",
       "      <td>1630941080</td>\n",
       "      <td>180</td>\n",
       "      <td>32</td>\n",
       "      <td>0</td>\n",
       "    </tr>\n",
       "  </tbody>\n",
       "</table>\n",
       "</div>"
      ],
      "text/plain": [
       "  subreddit                                              title  \\\n",
       "0   houston  Want to build a stand alone apartment in backyard   \n",
       "1   houston                             Relocating from Lex KY   \n",
       "2   houston  Anywhere in Houston that can mount bindings to...   \n",
       "3   houston                                    Places to Study   \n",
       "4   houston              Where to buy fresh oysters( variety )   \n",
       "\n",
       "                                            selftext  created_utc  \\\n",
       "0  Hello everyone. I want to build a stand alone ...   1630951521   \n",
       "1  Hi! Considering relocating from Lexington KY a...   1630948138   \n",
       "2  Just received some warranty replacement skis f...   1630943989   \n",
       "3  Hi everyone! I just started school and I’m loo...   1630943452   \n",
       "4  Well ass the tittle says is there anywhere in ...   1630941080   \n",
       "\n",
       "   text_length  text_word_count  classifier  \n",
       "0          640              122           0  \n",
       "1          433               75           0  \n",
       "2          268               48           0  \n",
       "3          197               35           0  \n",
       "4          180               32           0  "
      ]
     },
     "execution_count": 9,
     "metadata": {},
     "output_type": "execute_result"
    }
   ],
   "source": [
    "city_comp = pd.read_csv('data/city_comp.csv')\n",
    "city_comp.head()"
   ]
  },
  {
   "cell_type": "code",
   "execution_count": 3,
   "id": "d1c72d70",
   "metadata": {},
   "outputs": [
    {
     "data": {
      "text/plain": [
       "(11006, 7)"
      ]
     },
     "execution_count": 3,
     "metadata": {},
     "output_type": "execute_result"
    }
   ],
   "source": [
    "city_comp.shape"
   ]
  },
  {
   "cell_type": "markdown",
   "id": "7a61b10b",
   "metadata": {},
   "source": [
    "## Define X y and split the data"
   ]
  },
  {
   "cell_type": "code",
   "execution_count": 10,
   "id": "9d7c70ad",
   "metadata": {},
   "outputs": [],
   "source": [
    "X = city_comp['selftext']\n",
    "y = city_comp['classifier']\n"
   ]
  },
  {
   "cell_type": "markdown",
   "id": "5d5eb0ab",
   "metadata": {},
   "source": [
    "## Baseline"
   ]
  },
  {
   "cell_type": "code",
   "execution_count": 5,
   "id": "9b0efacf",
   "metadata": {},
   "outputs": [
    {
     "data": {
      "text/plain": [
       "1    0.505633\n",
       "0    0.494367\n",
       "Name: classifier, dtype: float64"
      ]
     },
     "execution_count": 5,
     "metadata": {},
     "output_type": "execute_result"
    }
   ],
   "source": [
    "y.value_counts(normalize=True)"
   ]
  },
  {
   "cell_type": "code",
   "execution_count": 11,
   "id": "e20ca0b1",
   "metadata": {},
   "outputs": [],
   "source": [
    "X_train, X_test, y_train, y_test = train_test_split(X, y, random_state=42, stratify = y)\n"
   ]
  },
  {
   "cell_type": "markdown",
   "id": "e87ee861",
   "metadata": {},
   "source": [
    "----"
   ]
  },
  {
   "cell_type": "markdown",
   "id": "af3eaea2",
   "metadata": {},
   "source": [
    "## CountVectorize - Add City Names to Stop_words"
   ]
  },
  {
   "cell_type": "code",
   "execution_count": 12,
   "id": "9d08e900",
   "metadata": {},
   "outputs": [],
   "source": [
    "new_stop_words = list(CountVectorizer(stop_words='english').get_stop_words())"
   ]
  },
  {
   "cell_type": "markdown",
   "id": "78d36802",
   "metadata": {},
   "source": [
    "Ran one model with more words added to the stop word list and saw no large change."
   ]
  },
  {
   "cell_type": "code",
   "execution_count": 13,
   "id": "bb0a1f43",
   "metadata": {},
   "outputs": [],
   "source": [
    "new_stop_words.append('austin')\n",
    "new_stop_words.append('houston')\n",
    "#new_stop_words.append('im')\n",
    "#new_stop_words.append('know')\n",
    "#new_stop_words.append('just')\n",
    "#new_stop_words.append('good')\n",
    "#new_stop_words.append('like')\n",
    "#new_stop_words.append('thanks')\n",
    "#new_stop_words.append('610')\n"
   ]
  },
  {
   "cell_type": "code",
   "execution_count": 14,
   "id": "a252b57e",
   "metadata": {},
   "outputs": [],
   "source": [
    "cvec_city = CountVectorizer(stop_words=new_stop_words)"
   ]
  },
  {
   "cell_type": "code",
   "execution_count": 15,
   "id": "931ba1a0",
   "metadata": {},
   "outputs": [],
   "source": [
    "X_train_cvec = cvec_city.fit_transform(X_train)\n",
    "X_test_cvec = cvec_city.transform(X_test)"
   ]
  },
  {
   "cell_type": "markdown",
   "id": "9ebd0d74",
   "metadata": {},
   "source": [
    "--------"
   ]
  },
  {
   "cell_type": "markdown",
   "id": "a656f235",
   "metadata": {},
   "source": [
    "## Logistic Regression"
   ]
  },
  {
   "cell_type": "code",
   "execution_count": 39,
   "id": "3ad327e7",
   "metadata": {},
   "outputs": [
    {
     "name": "stdout",
     "output_type": "stream",
     "text": [
      "0.9975769323964139\n",
      "0.997093023255814\n"
     ]
    }
   ],
   "source": [
    "logreg_cv = LogisticRegressionCV(Cs=10, cv=5, penalty='l1', solver='liblinear', n_jobs=-1)\n",
    "logreg_cv.fit(X_train_cvec, y_train)\n",
    "\n",
    "print(logreg_cv.score(X_train_cvec, y_train))\n",
    "\n",
    "print(logreg_cv.score(X_test_cvec, y_test))"
   ]
  },
  {
   "cell_type": "markdown",
   "id": "b9a013f0",
   "metadata": {},
   "source": [
    "### Logistic Regression Feature Importance(Coef.)"
   ]
  },
  {
   "cell_type": "code",
   "execution_count": 43,
   "id": "3a54f8b9",
   "metadata": {
    "scrolled": false
   },
   "outputs": [
    {
     "data": {
      "text/plain": [
       "assuming    6.989675\n",
       "little      6.430970\n",
       "hey         6.044143\n",
       "south       5.397371\n",
       "yall        4.898522\n",
       "curious     4.812134\n",
       "open        4.050332\n",
       "question    3.737335\n",
       "games       3.306832\n",
       "floor       3.193121\n",
       "dtype: float64"
      ]
     },
     "execution_count": 43,
     "metadata": {},
     "output_type": "execute_result"
    }
   ],
   "source": [
    "pd.Series(logreg_cv.coef_.ravel(), cvec_city.get_feature_names()).sort_values(ascending=False).head(10)"
   ]
  },
  {
   "cell_type": "markdown",
   "id": "6810ea29",
   "metadata": {},
   "source": [
    "#### **Comment:** Ran a Logistic Regression 1st because it is a simple model and easy to test and wanted to see if everything worked with setting up a model to run.  Had very good results with high accuracy.  \n",
    "\n",
    "#### Looked at the coeficients to see what words had the highest impact on the classification.  Was hoping to see some words that were big indications of which city to classify but did not.  Pretty common words were used.\n",
    "\n"
   ]
  },
  {
   "cell_type": "code",
   "execution_count": null,
   "id": "927de3f5",
   "metadata": {},
   "outputs": [],
   "source": [
    "#Note: needed to use ravel to flatten the coef array."
   ]
  },
  {
   "cell_type": "markdown",
   "id": "522ad05c",
   "metadata": {},
   "source": [
    "-----"
   ]
  },
  {
   "cell_type": "markdown",
   "id": "76b70679",
   "metadata": {},
   "source": [
    "## Random Forest"
   ]
  },
  {
   "cell_type": "code",
   "execution_count": 12,
   "id": "6b5bc6dc",
   "metadata": {},
   "outputs": [],
   "source": [
    "#Instantiate the model\n",
    "rf = RandomForestClassifier()"
   ]
  },
  {
   "cell_type": "code",
   "execution_count": 13,
   "id": "8b581c88",
   "metadata": {},
   "outputs": [
    {
     "data": {
      "text/plain": [
       "0.9964866839197548"
      ]
     },
     "execution_count": 13,
     "metadata": {},
     "output_type": "execute_result"
    }
   ],
   "source": [
    "#Ran a cross validation score to see and estimated score\n",
    "cross_val_score(rf, X_train_cvec, y_train, cv=5).mean()"
   ]
  },
  {
   "cell_type": "markdown",
   "id": "7d9d6931",
   "metadata": {},
   "source": [
    "### Set up additional testing paramaters for the random forest"
   ]
  },
  {
   "cell_type": "code",
   "execution_count": 15,
   "id": "735d9bb8",
   "metadata": {},
   "outputs": [
    {
     "name": "stdout",
     "output_type": "stream",
     "text": [
      "Fitting 5 folds for each of 36 candidates, totalling 180 fits\n",
      "0.996486757337151\n",
      "Wall time: 3min 18s\n"
     ]
    },
    {
     "data": {
      "text/plain": [
       "{'max_depth': None, 'max_features': 'sqrt', 'n_estimators': 100}"
      ]
     },
     "execution_count": 15,
     "metadata": {},
     "output_type": "execute_result"
    }
   ],
   "source": [
    "%%time\n",
    "rf_params = {\n",
    "    'n_estimators': [100, 150, 200],\n",
    "    'max_depth': [None, 1, 2, 3, 4, 5],\n",
    "    'max_features': ['sqrt', .5]\n",
    "    \n",
    "}\n",
    "gs = GridSearchCV(rf, rf_params, cv=5, n_jobs= -1, verbose=1)\n",
    "gs.fit(X_train_cvec, y_train)\n",
    "print(gs.best_score_)\n",
    "gs.best_params_"
   ]
  },
  {
   "cell_type": "code",
   "execution_count": 15,
   "id": "98bb7786",
   "metadata": {},
   "outputs": [
    {
     "data": {
      "text/plain": [
       "1.0"
      ]
     },
     "execution_count": 15,
     "metadata": {},
     "output_type": "execute_result"
    }
   ],
   "source": [
    "gs.score(X_train_cvec, y_train)"
   ]
  },
  {
   "cell_type": "code",
   "execution_count": 16,
   "id": "8fa8b7db",
   "metadata": {
    "scrolled": true
   },
   "outputs": [
    {
     "data": {
      "text/plain": [
       "0.9956395348837209"
      ]
     },
     "execution_count": 16,
     "metadata": {},
     "output_type": "execute_result"
    }
   ],
   "source": [
    "gs.score(X_test_cvec, y_test)"
   ]
  },
  {
   "cell_type": "markdown",
   "id": "889ac751",
   "metadata": {},
   "source": [
    "Look at the feature importance"
   ]
  },
  {
   "cell_type": "code",
   "execution_count": 16,
   "id": "78d14c59",
   "metadata": {},
   "outputs": [
    {
     "data": {
      "text/plain": [
       "hey            0.020518\n",
       "dog            0.016327\n",
       "assuming       0.013908\n",
       "curious        0.011719\n",
       "im             0.011326\n",
       "meet           0.009275\n",
       "single         0.008894\n",
       "day            0.008857\n",
       "restaurants    0.008364\n",
       "town           0.008285\n",
       "dtype: float64"
      ]
     },
     "execution_count": 16,
     "metadata": {},
     "output_type": "execute_result"
    }
   ],
   "source": [
    "pd.Series(gs.best_estimator_.feature_importances_, cvec_city.get_feature_names()).sort_values(ascending = False).head(10)\n",
    "\n",
    "#pd.Series(gs.best_estimator_.feature_importances_).sort_values(ascending = False).head(10)"
   ]
  },
  {
   "cell_type": "code",
   "execution_count": 17,
   "id": "89180da0",
   "metadata": {},
   "outputs": [
    {
     "data": {
      "image/png": "[encoded data removed]",
      "text/plain": [
       "<Figure size 432x288 with 1 Axes>"
      ]
     },
     "metadata": {
      "needs_background": "light"
     },
     "output_type": "display_data"
    }
   ],
   "source": [
    "pd.Series(gs.best_estimator_.feature_importances_, cvec_city.get_feature_names()).sort_values(ascending = False).head(10).plot(kind='barh');"
   ]
  },
  {
   "cell_type": "markdown",
   "id": "947bbb4b",
   "metadata": {},
   "source": [
    "#### Again note the very high accuracy.  Next going to look at some specific text to investigate why such a high classification and what was missed.  First was to look at a confusion matrix."
   ]
  },
  {
   "cell_type": "code",
   "execution_count": 20,
   "id": "8767c56b",
   "metadata": {},
   "outputs": [
    {
     "data": {
      "text/plain": [
       "0.9956772334293948"
      ]
     },
     "execution_count": 20,
     "metadata": {},
     "output_type": "execute_result"
    }
   ],
   "source": [
    "#Looked at the f1 score, and it was high as expected.\n",
    "preds = gs.predict(X_test_cvec)\n",
    "f1_score(y_test, preds)"
   ]
  },
  {
   "cell_type": "code",
   "execution_count": 28,
   "id": "bed258f2",
   "metadata": {},
   "outputs": [],
   "source": [
    "# Save confusion matrix values\n",
    "tn, fp, fn, tp = confusion_matrix(y_test, preds).ravel()"
   ]
  },
  {
   "cell_type": "code",
   "execution_count": 31,
   "id": "a8cf2da3",
   "metadata": {},
   "outputs": [
    {
     "data": {
      "text/plain": [
       "<sklearn.metrics._plot.confusion_matrix.ConfusionMatrixDisplay at 0x25ae6fd56d0>"
      ]
     },
     "execution_count": 31,
     "metadata": {},
     "output_type": "execute_result"
    },
    {
     "data": {
      "image/png": "[encoded data removed]",
      "text/plain": [
       "<Figure size 432x288 with 2 Axes>"
      ]
     },
     "metadata": {
      "needs_background": "light"
     },
     "output_type": "display_data"
    }
   ],
   "source": [
    "plot_confusion_matrix(gs, X_test_cvec, y_test, cmap='Blues', values_format='d')"
   ]
  },
  {
   "cell_type": "markdown",
   "id": "83ff16bc",
   "metadata": {},
   "source": [
    "#### Look at the text that was misclassified"
   ]
  },
  {
   "cell_type": "code",
   "execution_count": 57,
   "id": "a12c2aed",
   "metadata": {},
   "outputs": [
    {
     "data": {
      "text/plain": [
       "Int64Index([ 1734,  8763,  2774,  7628,  3019,   317,  9247,  8197,  3272,\n",
       "            10796,\n",
       "            ...\n",
       "             2923,  8712, 10944,   524,  4887,  3900,  8684,  5014,  6352,\n",
       "             8605],\n",
       "           dtype='int64', length=2752)"
      ]
     },
     "execution_count": 57,
     "metadata": {},
     "output_type": "execute_result"
    }
   ],
   "source": [
    "#Need to pull the correct index from the the y_test for the dataframe\n",
    "new_index = y_test.index\n",
    "\n",
    "missed_classified = pd.DataFrame(gs.predict(X_test_cvec), columns=['predicted'], index=new_index)\n",
    "missed_classified['actual'] = y_test\n",
    "missed_classified.head()"
   ]
  },
  {
   "cell_type": "markdown",
   "id": "b63c0e90",
   "metadata": {},
   "source": [
    "Below is a dataFrame of all the missclassified posts"
   ]
  },
  {
   "cell_type": "code",
   "execution_count": 59,
   "id": "2584abfd",
   "metadata": {},
   "outputs": [
    {
     "data": {
      "text/html": [
       "<div>\n",
       "<style scoped>\n",
       "    .dataframe tbody tr th:only-of-type {\n",
       "        vertical-align: middle;\n",
       "    }\n",
       "\n",
       "    .dataframe tbody tr th {\n",
       "        vertical-align: top;\n",
       "    }\n",
       "\n",
       "    .dataframe thead th {\n",
       "        text-align: right;\n",
       "    }\n",
       "</style>\n",
       "<table border=\"1\" class=\"dataframe\">\n",
       "  <thead>\n",
       "    <tr style=\"text-align: right;\">\n",
       "      <th></th>\n",
       "      <th>predicted</th>\n",
       "      <th>actual</th>\n",
       "    </tr>\n",
       "  </thead>\n",
       "  <tbody>\n",
       "    <tr>\n",
       "      <th>5465</th>\n",
       "      <td>0</td>\n",
       "      <td>1</td>\n",
       "    </tr>\n",
       "    <tr>\n",
       "      <th>5467</th>\n",
       "      <td>0</td>\n",
       "      <td>1</td>\n",
       "    </tr>\n",
       "    <tr>\n",
       "      <th>36</th>\n",
       "      <td>1</td>\n",
       "      <td>0</td>\n",
       "    </tr>\n",
       "    <tr>\n",
       "      <th>5445</th>\n",
       "      <td>0</td>\n",
       "      <td>1</td>\n",
       "    </tr>\n",
       "    <tr>\n",
       "      <th>5456</th>\n",
       "      <td>0</td>\n",
       "      <td>1</td>\n",
       "    </tr>\n",
       "    <tr>\n",
       "      <th>5468</th>\n",
       "      <td>0</td>\n",
       "      <td>1</td>\n",
       "    </tr>\n",
       "    <tr>\n",
       "      <th>5</th>\n",
       "      <td>1</td>\n",
       "      <td>0</td>\n",
       "    </tr>\n",
       "    <tr>\n",
       "      <th>5459</th>\n",
       "      <td>0</td>\n",
       "      <td>1</td>\n",
       "    </tr>\n",
       "    <tr>\n",
       "      <th>5442</th>\n",
       "      <td>0</td>\n",
       "      <td>1</td>\n",
       "    </tr>\n",
       "    <tr>\n",
       "      <th>5475</th>\n",
       "      <td>0</td>\n",
       "      <td>1</td>\n",
       "    </tr>\n",
       "    <tr>\n",
       "      <th>5469</th>\n",
       "      <td>0</td>\n",
       "      <td>1</td>\n",
       "    </tr>\n",
       "    <tr>\n",
       "      <th>5485</th>\n",
       "      <td>0</td>\n",
       "      <td>1</td>\n",
       "    </tr>\n",
       "  </tbody>\n",
       "</table>\n",
       "</div>"
      ],
      "text/plain": [
       "      predicted  actual\n",
       "5465          0       1\n",
       "5467          0       1\n",
       "36            1       0\n",
       "5445          0       1\n",
       "5456          0       1\n",
       "5468          0       1\n",
       "5             1       0\n",
       "5459          0       1\n",
       "5442          0       1\n",
       "5475          0       1\n",
       "5469          0       1\n",
       "5485          0       1"
      ]
     },
     "execution_count": 59,
     "metadata": {},
     "output_type": "execute_result"
    }
   ],
   "source": [
    "missed_classified[missed_classified['predicted'] != missed_classified['actual']]"
   ]
  },
  {
   "cell_type": "markdown",
   "id": "af978652",
   "metadata": {},
   "source": [
    "#### Since there are only 12 misclassified post I printed all of them out to read them and look for words that might have made them miss"
   ]
  },
  {
   "cell_type": "code",
   "execution_count": 66,
   "id": "80cb5774",
   "metadata": {},
   "outputs": [],
   "source": [
    "missed_df = list(missed_classified[missed_classified['predicted'] != missed_classified['actual']].index)"
   ]
  },
  {
   "cell_type": "code",
   "execution_count": 67,
   "id": "eae41266",
   "metadata": {
    "scrolled": true
   },
   "outputs": [
    {
     "data": {
      "text/plain": [
       "[5465, 5467, 36, 5445, 5456, 5468, 5, 5459, 5442, 5475, 5469, 5485]"
      ]
     },
     "execution_count": 67,
     "metadata": {},
     "output_type": "execute_result"
    }
   ],
   "source": [
    "missed_df"
   ]
  },
  {
   "cell_type": "markdown",
   "id": "bb10c24a",
   "metadata": {},
   "source": [
    "### Note: numbers 36 and 5 guessed Austin and were Houston , the rest guessed Houston and were Austin"
   ]
  },
  {
   "cell_type": "code",
   "execution_count": 75,
   "id": "5b4a3aee",
   "metadata": {},
   "outputs": [
    {
     "name": "stdout",
     "output_type": "stream",
     "text": [
      "5465\n",
      "What’s a reputable, clean plasma donation center you trust in Austin? I’m looking into donating and the biggest place I’ve found is Biolife but the reviews sound horrible so I’m hesitant. Where have you had a great experience/experiences before?\n",
      "\n",
      "5467\n",
      "This is legal, so please dont remove.  I dont have my medical marijuana card yet, but meet with my oncologist again soon and plan to bring it up.  I have no interest in smoking it and honestly dont have the time or energy to make my own edibles.  So where can I get some?  Sorry, Im such a square, I wouldnt know where to start.\n",
      "\n",
      "36\n",
      "Have been trying my luck at freshwater fishing the past few weeks and have come up empty. I’ve been toe Dwight D park, Buffalo Run, and Tom Bass. Are there any other places to catch largemouth bass?\n",
      "\n",
      "5445\n",
      "I’m aware of the spots around Festival Beach but I live in south Austin and would love to avoid crossing the bridge if possible. Thanks for ideas!\n",
      "\n",
      "5456\n",
      "I noticed yesterday that the city put some speed bumps on the road into Roy G (Grove St). They start just after the bus turnaround, and they are **no joke**. Quite jarring at 20mph, slow down to 5mph.I guess Im as guilty as anyone else for speeding on that road, but it seems to me that the bumps are not a great addition. Have there been collisions there causing problems, or is it just concerned citizens boofing us?\n",
      "\n",
      "5468\n",
      "Just moved out here and want to start exploring. I used to traditional camp back in the NC mountains but obviously it’s so hot here it isn’t the same. Are there any cool spots I could go and park the car and hike during the day then camp in the car?\n",
      "\n",
      "5\n",
      "We live in a little townhome neighborhood where the townhomes face each other. Early this morning, I put a brisket on my pellet smoker and about an hour later, heard this loud popping noise. I’m thinking my grill exploded or something so I went outside to investigate. I peaked around the corner and my neighbor is outside his house with like 3 other guys pointing a handgun at me asking “wtf the fuck was that noise?” All while continuing to point the gun at me. I backed away and said I don’t fucking know, that’s why I’m out here. He said someone threw shit at his window. I said I didn’t know anything about it and that it could have been my grill making that noise. He then went “oh sorry bro” and went inside. Now this isn’t the first time he heard a loud noise and came outside with a gun. My gf said a few days before 4th of July, he came out with a “golden ak47” after hearing a loud noise. Which was probably someone just popping fireworks. I am pretty sure they are dealing drugs out of that house. They always have people coming and going and all drive very nice cars for the neighborhood. Talking about BMWs, Mercedes, Maseratis, seen some lambos around too.  I’ve seen someone bring in giant duffel bags into the house before. Now what should I do? Should I call and report it to the cops? That he was waiving a gun around? I get someone protecting their house, but if your protecting your house from people wanting to rob you for your drugs/money, that’s a different story. I feel like that will only cause problems for me if I do. what do y’all think?\n",
      "\n",
      "5459\n",
      "I haven’t been to the gym since quarantine started and I’m hoping to get back again, but I’m still pretty concerned about the Covid risk (though I am vaccinated). The Hancock 24 Hour Fitness isn’t too far from me, and I was hoping that since it’s 24 hours I could pick a time to go when not many other people are there…has anyone else tried this? If so, when is a good time (that’s hopefully not 1 am)? Do people wear masks, social distance and sanitize, or is it a free for all?Any other gym suggestions that fit the bill are welcome. And yes, I did try an at home routine, but unfortunately it’s just not working very well for me.\n",
      "\n",
      "5442\n",
      "I feel like I have some kidney stone issues and the pain is wild. Am I in for a long wait, or will I even be seen today?\n",
      "\n",
      "5475\n",
      "Is anyone aware of any sports bars that is primarily for Notre Dame fans?\n",
      "\n",
      "5469\n",
      "Moving to Austin pretty soon here and looking for a good tattoo artist. Preferably someone who’s good at black/white/intricate designs. Thanks!\n",
      "\n",
      "5485\n",
      "Anyone know or ever play racquetball with a man named Mackenzie or goes by Mack in the Austin, TX area? Caucasian, male, late 20s. Been trying to find him for awhile now and sadly my last hope is asking around in groups and forums. Apologies if posts like this arent allowed, just hoping I reach someone who knows something.\n",
      "\n"
     ]
    }
   ],
   "source": [
    "for i in missed_df:\n",
    "    print(i)\n",
    "    print(city_comp.iloc[i, 2])\n",
    "    print()"
   ]
  },
  {
   "cell_type": "markdown",
   "id": "57ad5ee1",
   "metadata": {},
   "source": [
    "## Bonus: ran some additional models with different hyperparameters to look at the feature importance if anything stands out"
   ]
  },
  {
   "cell_type": "code",
   "execution_count": 22,
   "id": "770b6033",
   "metadata": {},
   "outputs": [
    {
     "name": "stdout",
     "output_type": "stream",
     "text": [
      "Fitting 5 folds for each of 144 candidates, totalling 720 fits\n",
      "0.9968501000312024\n",
      "Wall time: 11min\n"
     ]
    },
    {
     "data": {
      "text/plain": [
       "{'cvec__min_df': 1,\n",
       " 'cvec__ngram_range': (1, 1),\n",
       " 'rf__max_depth': None,\n",
       " 'rf__max_features': 0.5,\n",
       " 'rf__n_estimators': 100}"
      ]
     },
     "execution_count": 22,
     "metadata": {},
     "output_type": "execute_result"
    }
   ],
   "source": [
    "%%time\n",
    "# Grid search with CountVectorizer and Random Forest\n",
    "# Instantiate pipeline object.\n",
    "pipe_cvec = Pipeline([\n",
    "    ('cvec', CountVectorizer(stop_words=new_stop_words)),\n",
    "    ('rf', RandomForestClassifier())\n",
    "    \n",
    "])\n",
    "\n",
    "\n",
    "pipe_cvec_params = {\n",
    "    #'cvec__max_features': [2000, 3000, 4000, 5000], \n",
    "    'cvec__min_df': [1,2],\n",
    "    'cvec__ngram_range': [(1,1), (1,2)],\n",
    "    'rf__n_estimators': [100, 150, 200],\n",
    "    'rf__max_depth': [None, 1, 2, 3, 4, 5],\n",
    "    'rf__max_features': ['sqrt', .5]\n",
    "}\n",
    "pipe_cvec_gs = GridSearchCV(pipe_cvec, \n",
    "                                pipe_cvec_params,\n",
    "                               n_jobs = -1,\n",
    "                               verbose=1)\n",
    "\n",
    "\n",
    "pipe_cvec_gs.fit(X_train, y_train)\n",
    "\n",
    "print(pipe_cvec_gs.best_score_)\n",
    "\n",
    "pipe_cvec_gs.best_params_"
   ]
  },
  {
   "cell_type": "code",
   "execution_count": 23,
   "id": "a7191ae4",
   "metadata": {},
   "outputs": [
    {
     "data": {
      "text/plain": [
       "1.0"
      ]
     },
     "execution_count": 23,
     "metadata": {},
     "output_type": "execute_result"
    }
   ],
   "source": [
    "pipe_cvec_gs.score(X_train, y_train)"
   ]
  },
  {
   "cell_type": "code",
   "execution_count": 24,
   "id": "d7f3f894",
   "metadata": {},
   "outputs": [
    {
     "data": {
      "text/plain": [
       "0.9956395348837209"
      ]
     },
     "execution_count": 24,
     "metadata": {},
     "output_type": "execute_result"
    }
   ],
   "source": [
    "pipe_cvec_gs.score(X_test, y_test)"
   ]
  },
  {
   "cell_type": "code",
   "execution_count": 25,
   "id": "564d5d52",
   "metadata": {},
   "outputs": [
    {
     "data": {
      "text/plain": [
       "1993"
      ]
     },
     "execution_count": 25,
     "metadata": {},
     "output_type": "execute_result"
    }
   ],
   "source": [
    "len(pipe_cvec_gs.best_estimator_.named_steps['rf'].feature_importances_)"
   ]
  },
  {
   "cell_type": "code",
   "execution_count": 26,
   "id": "411bfd66",
   "metadata": {},
   "outputs": [
    {
     "data": {
      "text/plain": [
       "1993"
      ]
     },
     "execution_count": 26,
     "metadata": {},
     "output_type": "execute_result"
    }
   ],
   "source": [
    "len(pipe_cvec_gs.best_estimator_.named_steps['cvec'].get_feature_names())"
   ]
  },
  {
   "cell_type": "code",
   "execution_count": 67,
   "id": "67de845a",
   "metadata": {},
   "outputs": [
    {
     "data": {
      "text/plain": [
       "{'cvec': CountVectorizer(min_df=2, ngram_range=(1, 2),\n",
       "                 stop_words=['yourselves', 'hence', 'mill', 'around', 'few',\n",
       "                             'nowhere', 'formerly', 'none', 'behind', 'already',\n",
       "                             'thus', 'although', 'became', 'via', 'here', 'two',\n",
       "                             'eleven', 'than', 'into', 'while', 'its', 'who',\n",
       "                             'her', 'only', 'perhaps', 'an', 'neither',\n",
       "                             'sometime', 'whose', 'done', ...]),\n",
       " 'rf': RandomForestClassifier()}"
      ]
     },
     "execution_count": 67,
     "metadata": {},
     "output_type": "execute_result"
    }
   ],
   "source": [
    "pipe_cvec_gs.best_estimator_.named_steps"
   ]
  },
  {
   "cell_type": "code",
   "execution_count": 27,
   "id": "8349b6be",
   "metadata": {
    "scrolled": true
   },
   "outputs": [
    {
     "data": {
      "text/plain": [
       "hey          0.068812\n",
       "dog          0.056855\n",
       "assuming     0.054450\n",
       "question     0.042210\n",
       "tonight      0.032123\n",
       "meet         0.029312\n",
       "tradition    0.024558\n",
       "park         0.024355\n",
       "bars         0.021085\n",
       "eating       0.019969\n",
       "dtype: float64"
      ]
     },
     "execution_count": 27,
     "metadata": {},
     "output_type": "execute_result"
    }
   ],
   "source": [
    "pd.Series(pipe_cvec_gs.best_estimator_.named_steps['rf'].feature_importances_, pipe_cvec_gs.best_estimator_.named_steps['cvec'].get_feature_names()).sort_values(ascending = False).head(10)"
   ]
  },
  {
   "cell_type": "markdown",
   "id": "fbca9865",
   "metadata": {},
   "source": [
    "## TFIDF Vectorizer"
   ]
  },
  {
   "cell_type": "code",
   "execution_count": 90,
   "id": "f7439336",
   "metadata": {},
   "outputs": [
    {
     "name": "stdout",
     "output_type": "stream",
     "text": [
      "Fitting 5 folds for each of 144 candidates, totalling 720 fits\n",
      "0.9966079694583632\n",
      "Wall time: 11min 24s\n"
     ]
    },
    {
     "data": {
      "text/plain": [
       "{'rf__max_depth': None,\n",
       " 'rf__max_features': 'sqrt',\n",
       " 'rf__n_estimators': 200,\n",
       " 'tvec__min_df': 1,\n",
       " 'tvec__ngram_range': (1, 2)}"
      ]
     },
     "execution_count": 90,
     "metadata": {},
     "output_type": "execute_result"
    }
   ],
   "source": [
    "%%time\n",
    "\n",
    "# Grid search with CountVectorizer and Random Forest\n",
    "# Instantiate pipeline object.\n",
    "pipe_tvec = Pipeline([\n",
    "    ('tvec', TfidfVectorizer(stop_words=new_stop_words)),\n",
    "    ('rf', RandomForestClassifier())\n",
    "    \n",
    "])\n",
    "\n",
    "\n",
    "pipe_tvec_params = {\n",
    "    #'cvec__max_features': [2000, 3000, 4000, 5000], \n",
    "    'tvec__min_df': [1,2],\n",
    "    'tvec__ngram_range': [(1,1), (1,2)],\n",
    "    'rf__n_estimators': [100, 150, 200],\n",
    "    'rf__max_depth': [None, 1, 2, 3, 4, 5],\n",
    "    'rf__max_features': ['sqrt', .5]\n",
    "}\n",
    "pipe_tvec_gs = GridSearchCV(pipe_tvec, \n",
    "                                pipe_tvec_params,\n",
    "                               n_jobs = -1,\n",
    "                               verbose=1)\n",
    "\n",
    "\n",
    "pipe_tvec_gs.fit(X_train, y_train)\n",
    "\n",
    "print(pipe_tvec_gs.best_score_)\n",
    "\n",
    "pipe_tvec_gs.best_params_"
   ]
  },
  {
   "cell_type": "code",
   "execution_count": 91,
   "id": "072bfb8d",
   "metadata": {},
   "outputs": [
    {
     "data": {
      "text/plain": [
       "1.0"
      ]
     },
     "execution_count": 91,
     "metadata": {},
     "output_type": "execute_result"
    }
   ],
   "source": [
    "pipe_tvec_gs.score(X_train, y_train)"
   ]
  },
  {
   "cell_type": "code",
   "execution_count": 92,
   "id": "f053ff19",
   "metadata": {},
   "outputs": [
    {
     "data": {
      "text/plain": [
       "0.9960029069767442"
      ]
     },
     "execution_count": 92,
     "metadata": {},
     "output_type": "execute_result"
    }
   ],
   "source": [
    "pipe_tvec_gs.score(X_test, y_test)"
   ]
  },
  {
   "cell_type": "code",
   "execution_count": 96,
   "id": "5ba53f42",
   "metadata": {},
   "outputs": [
    {
     "data": {
      "text/plain": [
       "im              0.013394\n",
       "like            0.012934\n",
       "hey             0.012555\n",
       "dog             0.011381\n",
       "good            0.011201\n",
       "open            0.009202\n",
       "need            0.008520\n",
       "place           0.008224\n",
       "assuming        0.007673\n",
       "right           0.007664\n",
       "park            0.007317\n",
       "know            0.007024\n",
       "curious         0.006911\n",
       "past            0.006886\n",
       "town            0.006789\n",
       "recently        0.006712\n",
       "person          0.006119\n",
       "stop            0.005854\n",
       "meet            0.005573\n",
       "looking good    0.005072\n",
       "dtype: float64"
      ]
     },
     "execution_count": 96,
     "metadata": {},
     "output_type": "execute_result"
    }
   ],
   "source": [
    "pd.Series(pipe_tvec_gs.best_estimator_.named_steps['rf'].feature_importances_, pipe_tvec_gs.best_estimator_.named_steps['tvec'].get_feature_names()).sort_values(ascending = False).head(20)"
   ]
  },
  {
   "cell_type": "markdown",
   "id": "13323be9",
   "metadata": {},
   "source": [
    "# SVM"
   ]
  },
  {
   "cell_type": "code",
   "execution_count": 16,
   "id": "d9c1cfca",
   "metadata": {},
   "outputs": [],
   "source": [
    "svc = SVC()"
   ]
  },
  {
   "cell_type": "code",
   "execution_count": 17,
   "id": "460166bc",
   "metadata": {},
   "outputs": [
    {
     "data": {
      "text/plain": [
       "SVC()"
      ]
     },
     "execution_count": 17,
     "metadata": {},
     "output_type": "execute_result"
    }
   ],
   "source": [
    "svc.fit(X_train_cvec, y_train)"
   ]
  },
  {
   "cell_type": "code",
   "execution_count": 18,
   "id": "5b98a0dc",
   "metadata": {},
   "outputs": [
    {
     "name": "stdout",
     "output_type": "stream",
     "text": [
      "train score:  0.9995153864792827\n",
      "test score:  0.9967296511627907\n"
     ]
    }
   ],
   "source": [
    "svc = SVC(kernel='poly', degree = 2)\n",
    "svc.fit(X_train_cvec, y_train)\n",
    "#y_pred = svc.predict(X_test)\n",
    "print('train score: ', svc.score(X_train_cvec, y_train))\n",
    "print('test score: ', svc.score(X_test_cvec, y_test))"
   ]
  },
  {
   "cell_type": "code",
   "execution_count": 21,
   "id": "c5e93297",
   "metadata": {},
   "outputs": [],
   "source": [
    "#Could only find information on feature importance extraction for linear models\n",
    "#ran out of time to figure out extracting features from poly kernel\n",
    "#svc.coef_"
   ]
  },
  {
   "cell_type": "code",
   "execution_count": 26,
   "id": "1a37d68a",
   "metadata": {},
   "outputs": [
    {
     "name": "stdout",
     "output_type": "stream",
     "text": [
      "0.9960020556870951\n"
     ]
    },
    {
     "data": {
      "text/plain": [
       "{'svm__degree': 2, 'svm__kernel': 'poly'}"
      ]
     },
     "execution_count": 26,
     "metadata": {},
     "output_type": "execute_result"
    }
   ],
   "source": [
    "pipe_svm = Pipeline([\n",
    "    \n",
    "    ('svm', SVC())\n",
    "    \n",
    "])\n",
    "\n",
    "params = {\n",
    "    'svm__kernel': ['sigmoid', 'poly'],\n",
    "    'svm__degree': [2,3]\n",
    "}\n",
    "\n",
    "\n",
    "pipe_gs_svm = GridSearchCV(pipe_svm, params, cv=5, n_jobs= -1)\n",
    "pipe_gs_svm.fit(X_train_cvec, y_train)\n",
    "\n",
    "print(pipe_gs_svm.best_score_)\n",
    "pipe_gs_svm.best_params_"
   ]
  },
  {
   "cell_type": "code",
   "execution_count": 22,
   "id": "10e29122",
   "metadata": {},
   "outputs": [],
   "source": [
    "#gs_svm.feature_importances_"
   ]
  },
  {
   "cell_type": "code",
   "execution_count": 28,
   "id": "4237f080",
   "metadata": {},
   "outputs": [],
   "source": [
    "#pd.Series(pipe_gs_svm.best_estimator_.named_steps['svm'].feature_importances_, pipe_gs_svm.best_estimator_.named_steps['svm'].get_feature_names()).sort_values(ascending = False).head(20)"
   ]
  },
  {
   "cell_type": "markdown",
   "id": "c6fc751c",
   "metadata": {},
   "source": [
    "# Sentiment Analysis"
   ]
  },
  {
   "cell_type": "code",
   "execution_count": 2,
   "id": "474c1899",
   "metadata": {},
   "outputs": [],
   "source": [
    "sent = SentimentIntensityAnalyzer()"
   ]
  },
  {
   "cell_type": "code",
   "execution_count": 5,
   "id": "8c273a95",
   "metadata": {},
   "outputs": [
    {
     "data": {
      "text/plain": [
       "{'neg': 0.044, 'neu': 0.864, 'pos': 0.092, 'compound': 0.5805}"
      ]
     },
     "execution_count": 5,
     "metadata": {},
     "output_type": "execute_result"
    }
   ],
   "source": [
    "sent.polarity_scores(city_comp.iloc[0, 2])"
   ]
  },
  {
   "cell_type": "code",
   "execution_count": 6,
   "id": "5d4590ac",
   "metadata": {},
   "outputs": [],
   "source": [
    "def get_sent(i, i_max):\n",
    "    sum=0\n",
    "    for num in range(i, i_max):\n",
    "        v = sent.polarity_scores(city_comp.iloc[num, 2])\n",
    "        sum += v['compound']\n",
    "    return sum"
   ]
  },
  {
   "cell_type": "code",
   "execution_count": 7,
   "id": "5e65c088",
   "metadata": {},
   "outputs": [
    {
     "data": {
      "text/plain": [
       "1100.8948999999718"
      ]
     },
     "execution_count": 7,
     "metadata": {},
     "output_type": "execute_result"
    }
   ],
   "source": [
    "#Houston Score\n",
    "get_sent(0,5440)"
   ]
  },
  {
   "cell_type": "code",
   "execution_count": 8,
   "id": "34fb0fed",
   "metadata": {},
   "outputs": [
    {
     "data": {
      "text/plain": [
       "1253.0389999999948"
      ]
     },
     "execution_count": 8,
     "metadata": {},
     "output_type": "execute_result"
    }
   ],
   "source": [
    "#Austin Score\n",
    "get_sent(5441,11006)"
   ]
  },
  {
   "cell_type": "markdown",
   "id": "3d83e9b1",
   "metadata": {},
   "source": [
    "## Evaluation"
   ]
  },
  {
   "cell_type": "markdown",
   "id": "63430a5c",
   "metadata": {},
   "source": [
    "Evaluation was done at the end of each model run, and compiled in a presentation."
   ]
  }
 ],
 "metadata": {
  "kernelspec": {
   "display_name": "Python 3",
   "language": "python",
   "name": "python3"
  },
  "language_info": {
   "codemirror_mode": {
    "name": "ipython",
    "version": 3
   },
   "file_extension": ".py",
   "mimetype": "text/x-python",
   "name": "python",
   "nbconvert_exporter": "python",
   "pygments_lexer": "ipython3",
   "version": "3.8.8"
  }
 },
 "nbformat": 4,
 "nbformat_minor": 5
}
