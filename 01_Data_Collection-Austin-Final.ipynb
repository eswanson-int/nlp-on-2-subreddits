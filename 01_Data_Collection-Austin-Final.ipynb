{
 "cells": [
  {
   "cell_type": "code",
   "execution_count": 1,
   "id": "eed839df",
   "metadata": {},
   "outputs": [],
   "source": [
    "import requests\n",
    "import pandas as pd\n",
    "import numpy as np\n",
    "import time"
   ]
  },
  {
   "cell_type": "code",
   "execution_count": 2,
   "id": "5a0ca02b",
   "metadata": {},
   "outputs": [],
   "source": [
    "url = 'https://api.pushshift.io/reddit/search/submission'"
   ]
  },
  {
   "cell_type": "markdown",
   "id": "685a5e19",
   "metadata": {},
   "source": [
    "## Run this first to get the last utc time for the first run"
   ]
  },
  {
   "cell_type": "code",
   "execution_count": 3,
   "id": "ca8ebbed",
   "metadata": {},
   "outputs": [
    {
     "data": {
      "text/plain": [
       "200"
      ]
     },
     "execution_count": 3,
     "metadata": {},
     "output_type": "execute_result"
    }
   ],
   "source": [
    "params = {\n",
    "    'subreddit': 'Austin',\n",
    "    'size': 100    \n",
    "}\n",
    "\n",
    "res = requests.get(url, params)\n",
    "\n",
    "res.status_code"
   ]
  },
  {
   "cell_type": "code",
   "execution_count": 4,
   "id": "caab6c63",
   "metadata": {},
   "outputs": [
    {
     "data": {
      "text/plain": [
       "dict_keys(['data'])"
      ]
     },
     "execution_count": 4,
     "metadata": {},
     "output_type": "execute_result"
    }
   ],
   "source": [
    "res.json().keys()"
   ]
  },
  {
   "cell_type": "code",
   "execution_count": 5,
   "id": "899d6625",
   "metadata": {},
   "outputs": [],
   "source": [
    "posts = res.json()['data']"
   ]
  },
  {
   "cell_type": "code",
   "execution_count": 6,
   "id": "c7c0d90a",
   "metadata": {
    "scrolled": true
   },
   "outputs": [
    {
     "data": {
      "text/plain": [
       "{'all_awardings': [],\n",
       " 'allow_live_comments': False,\n",
       " 'author': 'lenagracep',\n",
       " 'author_flair_css_class': None,\n",
       " 'author_flair_richtext': [],\n",
       " 'author_flair_text': None,\n",
       " 'author_flair_type': 'text',\n",
       " 'author_fullname': 't2_4euo58mu',\n",
       " 'author_is_blocked': False,\n",
       " 'author_patreon_flair': False,\n",
       " 'author_premium': False,\n",
       " 'awarders': [],\n",
       " 'can_mod_post': False,\n",
       " 'contest_mode': False,\n",
       " 'created_utc': 1630957968,\n",
       " 'domain': 'reddit.com',\n",
       " 'full_link': 'https://www.reddit.com/r/Austin/comments/pj7267/the_parking_lot_at_upper_bull_creek_this_morning/',\n",
       " 'gallery_data': {'items': [{'caption': 'Why? This was my first time out at upper bull creek. Trash EVERYWHERE. Glass bottles, beer cans, bottle caps, beer boxes, styrofoam plates…',\n",
       "    'id': 69734600,\n",
       "    'media_id': 'x14nzuxttxl71'},\n",
       "   {'caption': 'All over the parking lot ',\n",
       "    'id': 69734601,\n",
       "    'media_id': 'l6p6ctxttxl71'},\n",
       "   {'caption': 'And more plastic…',\n",
       "    'id': 69734602,\n",
       "    'media_id': '9iddtuxttxl71'},\n",
       "   {'id': 69734603, 'media_id': 'ardrntxttxl71'}]},\n",
       " 'gildings': {},\n",
       " 'id': 'pj7267',\n",
       " 'is_created_from_ads_ui': False,\n",
       " 'is_crosspostable': True,\n",
       " 'is_gallery': True,\n",
       " 'is_meta': False,\n",
       " 'is_original_content': False,\n",
       " 'is_reddit_media_domain': False,\n",
       " 'is_robot_indexable': True,\n",
       " 'is_self': False,\n",
       " 'is_video': False,\n",
       " 'link_flair_background_color': '',\n",
       " 'link_flair_richtext': [],\n",
       " 'link_flair_text_color': 'dark',\n",
       " 'link_flair_type': 'text',\n",
       " 'locked': False,\n",
       " 'media_metadata': {'9iddtuxttxl71': {'e': 'Image',\n",
       "   'id': '9iddtuxttxl71',\n",
       "   'm': 'image/jpg',\n",
       "   'p': [{'u': 'https://preview.redd.it/9iddtuxttxl71.jpg?width=108&amp;crop=smart&amp;auto=webp&amp;s=4509d1b1ec850e3f3ce1b20aed9ce3f62c4e0583',\n",
       "     'x': 108,\n",
       "     'y': 144},\n",
       "    {'u': 'https://preview.redd.it/9iddtuxttxl71.jpg?width=216&amp;crop=smart&amp;auto=webp&amp;s=758fca5cdc45bd048929b3691ef8e58077b81710',\n",
       "     'x': 216,\n",
       "     'y': 288},\n",
       "    {'u': 'https://preview.redd.it/9iddtuxttxl71.jpg?width=320&amp;crop=smart&amp;auto=webp&amp;s=953ee790ea12abbe80aca94e8a6f93e9384b9ef9',\n",
       "     'x': 320,\n",
       "     'y': 426},\n",
       "    {'u': 'https://preview.redd.it/9iddtuxttxl71.jpg?width=640&amp;crop=smart&amp;auto=webp&amp;s=3a8a0517a0bf66223f27f35b17a3cefbc8e54b6b',\n",
       "     'x': 640,\n",
       "     'y': 853},\n",
       "    {'u': 'https://preview.redd.it/9iddtuxttxl71.jpg?width=960&amp;crop=smart&amp;auto=webp&amp;s=9d2ddf2840e9318811be7a6bb83ccf730e2c684f',\n",
       "     'x': 960,\n",
       "     'y': 1280},\n",
       "    {'u': 'https://preview.redd.it/9iddtuxttxl71.jpg?width=1080&amp;crop=smart&amp;auto=webp&amp;s=48b69e7b9091ad39576bb8392127341bb412da6b',\n",
       "     'x': 1080,\n",
       "     'y': 1440}],\n",
       "   's': {'u': 'https://preview.redd.it/9iddtuxttxl71.jpg?width=3024&amp;format=pjpg&amp;auto=webp&amp;s=a5f24abc1ac4e3a0c8a35196bf8f0192736803b1',\n",
       "    'x': 3024,\n",
       "    'y': 4032},\n",
       "   'status': 'valid'},\n",
       "  'ardrntxttxl71': {'e': 'Image',\n",
       "   'id': 'ardrntxttxl71',\n",
       "   'm': 'image/jpg',\n",
       "   'p': [{'u': 'https://preview.redd.it/ardrntxttxl71.jpg?width=108&amp;crop=smart&amp;auto=webp&amp;s=981813907aa0d749aba45488b336b3491be83738',\n",
       "     'x': 108,\n",
       "     'y': 144},\n",
       "    {'u': 'https://preview.redd.it/ardrntxttxl71.jpg?width=216&amp;crop=smart&amp;auto=webp&amp;s=87cf68e2a3d03fd42a0ce75e7ee2ea9769e86213',\n",
       "     'x': 216,\n",
       "     'y': 288},\n",
       "    {'u': 'https://preview.redd.it/ardrntxttxl71.jpg?width=320&amp;crop=smart&amp;auto=webp&amp;s=193b6803996cdeb4a9dfbf09f98baf978538739b',\n",
       "     'x': 320,\n",
       "     'y': 426},\n",
       "    {'u': 'https://preview.redd.it/ardrntxttxl71.jpg?width=640&amp;crop=smart&amp;auto=webp&amp;s=cdab62d03adb54f900ba9989a887443301ff80c5',\n",
       "     'x': 640,\n",
       "     'y': 853},\n",
       "    {'u': 'https://preview.redd.it/ardrntxttxl71.jpg?width=960&amp;crop=smart&amp;auto=webp&amp;s=5e34331b40b860ebb5043b88cda86ba75231a904',\n",
       "     'x': 960,\n",
       "     'y': 1280},\n",
       "    {'u': 'https://preview.redd.it/ardrntxttxl71.jpg?width=1080&amp;crop=smart&amp;auto=webp&amp;s=da3ce71484fc6bde1ed98a1551e89c740f6764e2',\n",
       "     'x': 1080,\n",
       "     'y': 1440}],\n",
       "   's': {'u': 'https://preview.redd.it/ardrntxttxl71.jpg?width=3024&amp;format=pjpg&amp;auto=webp&amp;s=bcbcc75e821f43c44eea6e2108125ba4ebc879da',\n",
       "    'x': 3024,\n",
       "    'y': 4032},\n",
       "   'status': 'valid'},\n",
       "  'l6p6ctxttxl71': {'e': 'Image',\n",
       "   'id': 'l6p6ctxttxl71',\n",
       "   'm': 'image/jpg',\n",
       "   'p': [{'u': 'https://preview.redd.it/l6p6ctxttxl71.jpg?width=108&amp;crop=smart&amp;auto=webp&amp;s=58862a6eea10c1d1569ed6037a184152e21b94e4',\n",
       "     'x': 108,\n",
       "     'y': 144},\n",
       "    {'u': 'https://preview.redd.it/l6p6ctxttxl71.jpg?width=216&amp;crop=smart&amp;auto=webp&amp;s=33579de4479c84fbcf407feb6bde029a2287d7f1',\n",
       "     'x': 216,\n",
       "     'y': 288},\n",
       "    {'u': 'https://preview.redd.it/l6p6ctxttxl71.jpg?width=320&amp;crop=smart&amp;auto=webp&amp;s=4b9838407d3160a2ca009ce5bb0e5bb4f9a21a3e',\n",
       "     'x': 320,\n",
       "     'y': 426},\n",
       "    {'u': 'https://preview.redd.it/l6p6ctxttxl71.jpg?width=640&amp;crop=smart&amp;auto=webp&amp;s=478c470b0a60090c067e719ee9f69da8a9fd8923',\n",
       "     'x': 640,\n",
       "     'y': 853},\n",
       "    {'u': 'https://preview.redd.it/l6p6ctxttxl71.jpg?width=960&amp;crop=smart&amp;auto=webp&amp;s=19ac8e5e85e23d67487f332b9d2503d487502ae6',\n",
       "     'x': 960,\n",
       "     'y': 1280},\n",
       "    {'u': 'https://preview.redd.it/l6p6ctxttxl71.jpg?width=1080&amp;crop=smart&amp;auto=webp&amp;s=3cfe23d61948d2b582fd518e19cdfd06e7aad3f1',\n",
       "     'x': 1080,\n",
       "     'y': 1440}],\n",
       "   's': {'u': 'https://preview.redd.it/l6p6ctxttxl71.jpg?width=3024&amp;format=pjpg&amp;auto=webp&amp;s=bac40339faf801850c3b1c7a02fa513dd720d3f3',\n",
       "    'x': 3024,\n",
       "    'y': 4032},\n",
       "   'status': 'valid'},\n",
       "  'x14nzuxttxl71': {'e': 'Image',\n",
       "   'id': 'x14nzuxttxl71',\n",
       "   'm': 'image/jpg',\n",
       "   'p': [{'u': 'https://preview.redd.it/x14nzuxttxl71.jpg?width=108&amp;crop=smart&amp;auto=webp&amp;s=b78cc721f1a039e53da40c930fa636b79428c74e',\n",
       "     'x': 108,\n",
       "     'y': 144},\n",
       "    {'u': 'https://preview.redd.it/x14nzuxttxl71.jpg?width=216&amp;crop=smart&amp;auto=webp&amp;s=3079bd9cd453468587755bdebaa6bdecc23905e4',\n",
       "     'x': 216,\n",
       "     'y': 288},\n",
       "    {'u': 'https://preview.redd.it/x14nzuxttxl71.jpg?width=320&amp;crop=smart&amp;auto=webp&amp;s=3d80d8ee79568ce111f07ad8ec73625d4b141467',\n",
       "     'x': 320,\n",
       "     'y': 426},\n",
       "    {'u': 'https://preview.redd.it/x14nzuxttxl71.jpg?width=640&amp;crop=smart&amp;auto=webp&amp;s=efdebf5623b7f76f8e39b990f6e07a07cae0ad2f',\n",
       "     'x': 640,\n",
       "     'y': 853},\n",
       "    {'u': 'https://preview.redd.it/x14nzuxttxl71.jpg?width=960&amp;crop=smart&amp;auto=webp&amp;s=fb747b0d03b8163b9e68911a3cb677cf22989ba2',\n",
       "     'x': 960,\n",
       "     'y': 1280},\n",
       "    {'u': 'https://preview.redd.it/x14nzuxttxl71.jpg?width=1080&amp;crop=smart&amp;auto=webp&amp;s=c04f10f48d72ca311c9907814e0fd9a96e343583',\n",
       "     'x': 1080,\n",
       "     'y': 1440}],\n",
       "   's': {'u': 'https://preview.redd.it/x14nzuxttxl71.jpg?width=3024&amp;format=pjpg&amp;auto=webp&amp;s=748cc24d84257f51f1dd7c9a369b94da6c8a468b',\n",
       "    'x': 3024,\n",
       "    'y': 4032},\n",
       "   'status': 'valid'}},\n",
       " 'media_only': False,\n",
       " 'no_follow': True,\n",
       " 'num_comments': 0,\n",
       " 'num_crossposts': 0,\n",
       " 'over_18': False,\n",
       " 'parent_whitelist_status': 'all_ads',\n",
       " 'permalink': '/r/Austin/comments/pj7267/the_parking_lot_at_upper_bull_creek_this_morning/',\n",
       " 'pinned': False,\n",
       " 'pwls': 6,\n",
       " 'retrieved_on': 1630957978,\n",
       " 'score': 1,\n",
       " 'selftext': '',\n",
       " 'send_replies': True,\n",
       " 'spoiler': False,\n",
       " 'stickied': False,\n",
       " 'subreddit': 'Austin',\n",
       " 'subreddit_id': 't5_2qhn5',\n",
       " 'subreddit_subscribers': 253394,\n",
       " 'subreddit_type': 'public',\n",
       " 'thumbnail': 'https://b.thumbs.redditmedia.com/6QCbP1Su44LCIHKZXYQUKiWy8u2G6uaJauUG8Ipg7AQ.jpg',\n",
       " 'thumbnail_height': 140,\n",
       " 'thumbnail_width': 140,\n",
       " 'title': 'The parking lot at upper bull creek this morning…. I can’t believe it. Is it always like this? I learned that we will always bring trash bags to help clean up when we go on our hikes.',\n",
       " 'total_awards_received': 0,\n",
       " 'treatment_tags': [],\n",
       " 'upvote_ratio': 1.0,\n",
       " 'url': 'https://www.reddit.com/gallery/pj7267',\n",
       " 'url_overridden_by_dest': 'https://www.reddit.com/gallery/pj7267',\n",
       " 'whitelist_status': 'all_ads',\n",
       " 'wls': 6}"
      ]
     },
     "execution_count": 6,
     "metadata": {},
     "output_type": "execute_result"
    }
   ],
   "source": [
    "posts[0]"
   ]
  },
  {
   "cell_type": "code",
   "execution_count": 7,
   "id": "ca371099",
   "metadata": {
    "scrolled": true
   },
   "outputs": [
    {
     "data": {
      "text/html": [
       "<div>\n",
       "<style scoped>\n",
       "    .dataframe tbody tr th:only-of-type {\n",
       "        vertical-align: middle;\n",
       "    }\n",
       "\n",
       "    .dataframe tbody tr th {\n",
       "        vertical-align: top;\n",
       "    }\n",
       "\n",
       "    .dataframe thead th {\n",
       "        text-align: right;\n",
       "    }\n",
       "</style>\n",
       "<table border=\"1\" class=\"dataframe\">\n",
       "  <thead>\n",
       "    <tr style=\"text-align: right;\">\n",
       "      <th></th>\n",
       "      <th>subreddit</th>\n",
       "      <th>title</th>\n",
       "      <th>selftext</th>\n",
       "      <th>created_utc</th>\n",
       "    </tr>\n",
       "  </thead>\n",
       "  <tbody>\n",
       "    <tr>\n",
       "      <th>95</th>\n",
       "      <td>Austin</td>\n",
       "      <td>I got this Bitcoin investment company that I h...</td>\n",
       "      <td>[removed]</td>\n",
       "      <td>1630859232</td>\n",
       "    </tr>\n",
       "    <tr>\n",
       "      <th>96</th>\n",
       "      <td>Austin</td>\n",
       "      <td>Am I missing a joke here?</td>\n",
       "      <td>What's with the tigers on the [Barton Creek en...</td>\n",
       "      <td>1630859191</td>\n",
       "    </tr>\n",
       "    <tr>\n",
       "      <th>97</th>\n",
       "      <td>Austin</td>\n",
       "      <td>College advice; getting into UT?</td>\n",
       "      <td>Any tips/advice for college admissions and get...</td>\n",
       "      <td>1630858905</td>\n",
       "    </tr>\n",
       "    <tr>\n",
       "      <th>98</th>\n",
       "      <td>Austin</td>\n",
       "      <td>Neighbor stealing packages</td>\n",
       "      <td>Hello all. I need some advice. My downstairs n...</td>\n",
       "      <td>1630858173</td>\n",
       "    </tr>\n",
       "    <tr>\n",
       "      <th>99</th>\n",
       "      <td>Austin</td>\n",
       "      <td>Looking for someone!</td>\n",
       "      <td>Anyone know or ever play racquetball with a ma...</td>\n",
       "      <td>1630857912</td>\n",
       "    </tr>\n",
       "  </tbody>\n",
       "</table>\n",
       "</div>"
      ],
      "text/plain": [
       "   subreddit                                              title  \\\n",
       "95    Austin  I got this Bitcoin investment company that I h...   \n",
       "96    Austin                          Am I missing a joke here?   \n",
       "97    Austin                   College advice; getting into UT?   \n",
       "98    Austin                         Neighbor stealing packages   \n",
       "99    Austin                               Looking for someone!   \n",
       "\n",
       "                                             selftext  created_utc  \n",
       "95                                          [removed]   1630859232  \n",
       "96  What's with the tigers on the [Barton Creek en...   1630859191  \n",
       "97  Any tips/advice for college admissions and get...   1630858905  \n",
       "98  Hello all. I need some advice. My downstairs n...   1630858173  \n",
       "99  Anyone know or ever play racquetball with a ma...   1630857912  "
      ]
     },
     "execution_count": 7,
     "metadata": {},
     "output_type": "execute_result"
    }
   ],
   "source": [
    "df = pd.DataFrame(posts)[['subreddit', 'title', 'selftext', 'created_utc']]\n",
    "df.tail()"
   ]
  },
  {
   "cell_type": "markdown",
   "id": "b3cda61a",
   "metadata": {},
   "source": [
    "## Now run the scraper function"
   ]
  },
  {
   "cell_type": "code",
   "execution_count": 9,
   "id": "0c2f230d",
   "metadata": {},
   "outputs": [],
   "source": [
    "#Will scrape redit/Austin for n times and return a df\n",
    "#will need to run it one time outside of function to get the laststatus time and create the df\n",
    "last_time = df['created_utc'].iloc[-1]\n",
    "#1630796537\n",
    "\n",
    "def scraped(n):\n",
    "    df_final = df\n",
    "    for i in range (n):\n",
    "        \n",
    "        params = {\n",
    "        'subreddit': 'Austin',\n",
    "        'size': 100,\n",
    "        'before': df['created_utc'].iloc[-1]\n",
    "        }\n",
    "        res = requests.get(url, params)\n",
    "        posts = res.json()['data']\n",
    "        df2 = pd.DataFrame(posts)[['subreddit', 'title', 'selftext', 'created_utc']]\n",
    "        df_final = pd.concat([df_final, df2])\n",
    "        #need to update last_time\n",
    "        #last_time = df['created_utc'].iloc[-1]\n",
    "        time.sleep(10)\n",
    "    \n",
    "    return df_final\n"
   ]
  },
  {
   "cell_type": "markdown",
   "id": "f2807e86",
   "metadata": {},
   "source": [
    "## Define number of iterations, remember you pull 100 post per iteration"
   ]
  },
  {
   "cell_type": "code",
   "execution_count": 10,
   "id": "f13105e7",
   "metadata": {},
   "outputs": [],
   "source": [
    "#Call the function\n",
    "df_Austin = scraped(120)"
   ]
  },
  {
   "cell_type": "markdown",
   "id": "d54c730d",
   "metadata": {},
   "source": [
    "## Quick test of intergrity of data frame to make sure data aquisition is complete"
   ]
  },
  {
   "cell_type": "code",
   "execution_count": 11,
   "id": "65d3f24b",
   "metadata": {},
   "outputs": [
    {
     "data": {
      "text/html": [
       "<div>\n",
       "<style scoped>\n",
       "    .dataframe tbody tr th:only-of-type {\n",
       "        vertical-align: middle;\n",
       "    }\n",
       "\n",
       "    .dataframe tbody tr th {\n",
       "        vertical-align: top;\n",
       "    }\n",
       "\n",
       "    .dataframe thead th {\n",
       "        text-align: right;\n",
       "    }\n",
       "</style>\n",
       "<table border=\"1\" class=\"dataframe\">\n",
       "  <thead>\n",
       "    <tr style=\"text-align: right;\">\n",
       "      <th></th>\n",
       "      <th>subreddit</th>\n",
       "      <th>title</th>\n",
       "      <th>selftext</th>\n",
       "      <th>created_utc</th>\n",
       "    </tr>\n",
       "  </thead>\n",
       "  <tbody>\n",
       "    <tr>\n",
       "      <th>0</th>\n",
       "      <td>Austin</td>\n",
       "      <td>The parking lot at upper bull creek this morni...</td>\n",
       "      <td></td>\n",
       "      <td>1630957968</td>\n",
       "    </tr>\n",
       "    <tr>\n",
       "      <th>1</th>\n",
       "      <td>Austin</td>\n",
       "      <td>Happy birthday Sadie</td>\n",
       "      <td></td>\n",
       "      <td>1630956095</td>\n",
       "    </tr>\n",
       "    <tr>\n",
       "      <th>2</th>\n",
       "      <td>Austin</td>\n",
       "      <td>I guess this accessible spot is strictly for t...</td>\n",
       "      <td></td>\n",
       "      <td>1630955505</td>\n",
       "    </tr>\n",
       "    <tr>\n",
       "      <th>3</th>\n",
       "      <td>Austin</td>\n",
       "      <td>NEED HELP</td>\n",
       "      <td>[removed]</td>\n",
       "      <td>1630954679</td>\n",
       "    </tr>\n",
       "    <tr>\n",
       "      <th>4</th>\n",
       "      <td>Austin</td>\n",
       "      <td>Lost black and white tuxedo cat around Hancock...</td>\n",
       "      <td>Hello! Lord Byron is a large boy (about 14 pou...</td>\n",
       "      <td>1630954248</td>\n",
       "    </tr>\n",
       "  </tbody>\n",
       "</table>\n",
       "</div>"
      ],
      "text/plain": [
       "  subreddit                                              title  \\\n",
       "0    Austin  The parking lot at upper bull creek this morni...   \n",
       "1    Austin                               Happy birthday Sadie   \n",
       "2    Austin  I guess this accessible spot is strictly for t...   \n",
       "3    Austin                                          NEED HELP   \n",
       "4    Austin  Lost black and white tuxedo cat around Hancock...   \n",
       "\n",
       "                                            selftext  created_utc  \n",
       "0                                                      1630957968  \n",
       "1                                                      1630956095  \n",
       "2                                                      1630955505  \n",
       "3                                          [removed]   1630954679  \n",
       "4  Hello! Lord Byron is a large boy (about 14 pou...   1630954248  "
      ]
     },
     "execution_count": 11,
     "metadata": {},
     "output_type": "execute_result"
    }
   ],
   "source": [
    "df_Austin.head()"
   ]
  },
  {
   "cell_type": "code",
   "execution_count": 12,
   "id": "cb914198",
   "metadata": {},
   "outputs": [
    {
     "data": {
      "text/plain": [
       "(12100, 4)"
      ]
     },
     "execution_count": 12,
     "metadata": {},
     "output_type": "execute_result"
    }
   ],
   "source": [
    "df_Austin.shape"
   ]
  },
  {
   "cell_type": "code",
   "execution_count": 1,
   "id": "4ed516b3",
   "metadata": {},
   "outputs": [],
   "source": [
    "#df_Austin['selftext'].value_counts()"
   ]
  },
  {
   "cell_type": "code",
   "execution_count": 16,
   "id": "77b78108",
   "metadata": {},
   "outputs": [
    {
     "data": {
      "text/plain": [
       "491"
      ]
     },
     "execution_count": 16,
     "metadata": {},
     "output_type": "execute_result"
    }
   ],
   "source": [
    "len(df_Austin.loc[df_Austin['selftext'] == '[removed]'])"
   ]
  },
  {
   "cell_type": "markdown",
   "id": "39d52551",
   "metadata": {},
   "source": [
    "## Remove blanks and [removed] content"
   ]
  },
  {
   "cell_type": "code",
   "execution_count": 17,
   "id": "320fcba9",
   "metadata": {},
   "outputs": [],
   "source": [
    "df_Austin['selftext'].replace('', np.nan, inplace=True)"
   ]
  },
  {
   "cell_type": "code",
   "execution_count": 18,
   "id": "244a7d16",
   "metadata": {},
   "outputs": [],
   "source": [
    "df_Austin['selftext'].replace('[removed]', np.nan, inplace=True)"
   ]
  },
  {
   "cell_type": "code",
   "execution_count": 2,
   "id": "47861835",
   "metadata": {},
   "outputs": [],
   "source": [
    "#df_Austin.isnull().sum()"
   ]
  },
  {
   "cell_type": "code",
   "execution_count": 20,
   "id": "40014bd6",
   "metadata": {},
   "outputs": [],
   "source": [
    "df_Austin.dropna(inplace = True)"
   ]
  },
  {
   "cell_type": "code",
   "execution_count": 21,
   "id": "ed0c3ee5",
   "metadata": {},
   "outputs": [
    {
     "data": {
      "text/plain": [
       "(6052, 4)"
      ]
     },
     "execution_count": 21,
     "metadata": {},
     "output_type": "execute_result"
    }
   ],
   "source": [
    "df_Austin.shape"
   ]
  },
  {
   "cell_type": "markdown",
   "id": "b13d4ac7",
   "metadata": {},
   "source": [
    "## Write to a csv"
   ]
  },
  {
   "cell_type": "code",
   "execution_count": 23,
   "id": "b47e104a",
   "metadata": {},
   "outputs": [],
   "source": [
    "df_Austin.to_csv('data/df_Austin.csv', index=False)"
   ]
  }
 ],
 "metadata": {
  "kernelspec": {
   "display_name": "Python 3",
   "language": "python",
   "name": "python3"
  },
  "language_info": {
   "codemirror_mode": {
    "name": "ipython",
    "version": 3
   },
   "file_extension": ".py",
   "mimetype": "text/x-python",
   "name": "python",
   "nbconvert_exporter": "python",
   "pygments_lexer": "ipython3",
   "version": "3.8.8"
  }
 },
 "nbformat": 4,
 "nbformat_minor": 5
}
